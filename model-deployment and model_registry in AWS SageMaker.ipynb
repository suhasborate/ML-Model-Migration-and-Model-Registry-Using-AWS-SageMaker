{
 "cells": [
  {
   "cell_type": "code",
   "execution_count": 2,
   "metadata": {},
   "outputs": [
    {
     "name": "stdout",
     "output_type": "stream",
     "text": [
      "CPU times: user 688 ms, sys: 110 ms, total: 799 ms\n",
      "Wall time: 1.22 s\n"
     ]
    }
   ],
   "source": [
    "%%time\n",
    "\n",
    "import os\n",
    "import boto3\n",
    "import sagemaker\n",
    "\n",
    "from sagemaker import get_execution_role\n",
    "\n",
    "region = boto3.Session().region_name\n",
    "\n",
    "role = get_execution_role()"
   ]
  },
  {
   "cell_type": "markdown",
   "metadata": {},
   "source": [
    "Create S3 bucket"
   ]
  },
  {
   "cell_type": "code",
   "execution_count": 3,
   "metadata": {},
   "outputs": [],
   "source": [
    "# This creates a default S3 bucket where we will upload our model.\n",
    "bucket = sagemaker.Session().default_bucket()"
   ]
  },
  {
   "cell_type": "code",
   "execution_count": 4,
   "metadata": {},
   "outputs": [],
   "source": [
    "bucket_path = \"https://s3-{}.amazonaws.com/{}\".format(region, bucket)"
   ]
  },
  {
   "cell_type": "code",
   "execution_count": 5,
   "metadata": {},
   "outputs": [
    {
     "name": "stdout",
     "output_type": "stream",
     "text": [
      "arn:aws:iam::208779919433:role/service-role/AmazonSageMakerServiceCatalogProductsExecutionRole\n",
      "ap-south-1\n",
      "sagemaker-ap-south-1-208779919433\n",
      "https://s3-ap-south-1.amazonaws.com/sagemaker-ap-south-1-208779919433\n"
     ]
    }
   ],
   "source": [
    "print(role)\n",
    "print(region)\n",
    "print(bucket)\n",
    "print(bucket_path)"
   ]
  },
  {
   "cell_type": "code",
   "execution_count": 6,
   "metadata": {},
   "outputs": [
    {
     "name": "stdout",
     "output_type": "stream",
     "text": [
      "Collecting package metadata (current_repodata.json): done\n",
      "Solving environment: done\n",
      "\n",
      "## Package Plan ##\n",
      "\n",
      "  environment location: /opt/conda\n",
      "\n",
      "  added / updated specs:\n",
      "    - xgboost==1.5.0\n",
      "\n",
      "\n",
      "The following packages will be downloaded:\n",
      "\n",
      "    package                    |            build\n",
      "    ---------------------------|-----------------\n",
      "    _openmp_mutex-5.1          |            1_gnu          21 KB\n",
      "    _py-xgboost-mutex-2.0      |            cpu_0           8 KB  conda-forge\n",
      "    libgomp-11.2.0             |       h1234567_1         474 KB\n",
      "    libxgboost-1.5.0           |       h295c915_1         2.0 MB\n",
      "    openssl-1.1.1q             |       h7f8727e_0         2.5 MB\n",
      "    py-xgboost-1.5.0           |   py37h06a4308_1         162 KB\n",
      "    xgboost-1.5.0              |   py37h06a4308_1          25 KB\n",
      "    ------------------------------------------------------------\n",
      "                                           Total:         5.2 MB\n",
      "\n",
      "The following NEW packages will be INSTALLED:\n",
      "\n",
      "  _openmp_mutex      pkgs/main/linux-64::_openmp_mutex-5.1-1_gnu\n",
      "  _py-xgboost-mutex  conda-forge/linux-64::_py-xgboost-mutex-2.0-cpu_0\n",
      "  libgomp            pkgs/main/linux-64::libgomp-11.2.0-h1234567_1\n",
      "  libxgboost         pkgs/main/linux-64::libxgboost-1.5.0-h295c915_1\n",
      "  py-xgboost         pkgs/main/linux-64::py-xgboost-1.5.0-py37h06a4308_1\n",
      "  xgboost            pkgs/main/linux-64::xgboost-1.5.0-py37h06a4308_1\n",
      "\n",
      "The following packages will be UPDATED:\n",
      "\n",
      "  openssl                                 1.1.1o-h7f8727e_0 --> 1.1.1q-h7f8727e_0\n",
      "\n",
      "\n",
      "\n",
      "Downloading and Extracting Packages\n",
      "_openmp_mutex-5.1    | 21 KB     | ##################################### | 100% \n",
      "libxgboost-1.5.0     | 2.0 MB    | ##################################### | 100% \n",
      "openssl-1.1.1q       | 2.5 MB    | ##################################### | 100% \n",
      "_py-xgboost-mutex-2. | 8 KB      | ##################################### | 100% \n",
      "py-xgboost-1.5.0     | 162 KB    | ##################################### | 100% \n",
      "xgboost-1.5.0        | 25 KB     | ##################################### | 100% \n",
      "libgomp-11.2.0       | 474 KB    | ##################################### | 100% \n",
      "Preparing transaction: done\n",
      "Verifying transaction: done\n",
      "Executing transaction: done\n"
     ]
    }
   ],
   "source": [
    "!conda install -y -c conda-forge xgboost==1.5.0"
   ]
  },
  {
   "cell_type": "code",
   "execution_count": 7,
   "metadata": {},
   "outputs": [],
   "source": [
    "model_file_name = \"DEMO-local-xgboost-model-fraud-detection\""
   ]
  },
  {
   "cell_type": "markdown",
   "metadata": {},
   "source": [
    "Load the pre-trained model and test it before deployment"
   ]
  },
  {
   "cell_type": "code",
   "execution_count": 8,
   "metadata": {},
   "outputs": [],
   "source": [
    "import joblib\n",
    "import xgboost\n",
    "\n",
    "mymodel = joblib.load(model_file_name)"
   ]
  },
  {
   "cell_type": "code",
   "execution_count": 9,
   "metadata": {},
   "outputs": [
    {
     "name": "stdout",
     "output_type": "stream",
     "text": [
      "[[ 5.00000e+00  2.60000e+01  0.00000e+00  1.00000e+00  2.00000e+03\n",
      "   1.13702e+03  0.00000e+00  0.00000e+00  6.00000e+00  4.00000e+00\n",
      "   1.60000e+01  1.00000e+00  3.15000e+04  0.00000e+00  2.00000e+00\n",
      "   1.00000e+00  2.00000e+00  0.00000e+00  6.00000e+00  6.00000e+00\n",
      "   2.97000e+02  2.20000e+01  1.00000e+00  1.00000e+00  1.00000e+00\n",
      "   3.00000e+00  0.00000e+00  8.81100e+04  1.60200e+04  1.60200e+04\n",
      "   5.60700e+04  1.00000e+00  5.00000e+00  2.00300e+03]\n",
      " [ 1.60000e+02  3.30000e+01  0.00000e+00  2.00000e+00  1.00000e+03\n",
      "   1.42278e+03  0.00000e+00  0.00000e+00  2.00000e+00  3.00000e+00\n",
      "   8.00000e+00  0.00000e+00  6.16000e+04  0.00000e+00  0.00000e+00\n",
      "   0.00000e+00  2.00000e+00  0.00000e+00  0.00000e+00  5.00000e+00\n",
      "   1.11000e+02  1.70000e+01  3.00000e+00  0.00000e+00  2.00000e+00\n",
      "   3.00000e+00  1.00000e+00  5.28000e+04  5.28000e+03  5.28000e+03\n",
      "   4.22400e+04  9.00000e+00  2.90000e+01  2.00600e+03]\n",
      " [ 3.85000e+02  5.10000e+01  1.00000e+00  1.00000e+00  1.00000e+03\n",
      "   9.76370e+02  0.00000e+00  0.00000e+00  4.00000e+00  2.00000e+00\n",
      "   1.50000e+01  0.00000e+00  0.00000e+00 -6.10000e+04  0.00000e+00\n",
      "   1.00000e+00  1.00000e+00  3.00000e+00  6.00000e+00  5.00000e+00\n",
      "   4.40000e+01  1.40000e+01  3.00000e+00  0.00000e+00  1.00000e+00\n",
      "   3.00000e+00  0.00000e+00  6.76000e+04  1.35200e+04  6.76000e+03\n",
      "   4.73200e+04  1.10000e+01  2.10000e+01  2.00700e+03]\n",
      " [ 4.46000e+02  5.70000e+01  1.00000e+00  0.00000e+00  2.00000e+03\n",
      "   1.37321e+03  0.00000e+00  1.00000e+00  1.00000e+00  0.00000e+00\n",
      "   1.70000e+01  4.00000e+00  4.27000e+04 -6.49000e+04  0.00000e+00\n",
      "   0.00000e+00  2.00000e+00  4.00000e+00  4.00000e+00  4.00000e+00\n",
      "   9.72000e+02  1.00000e+01  3.00000e+00  0.00000e+00  0.00000e+00\n",
      "   0.00000e+00  0.00000e+00  6.28000e+04  6.28000e+03  1.25600e+04\n",
      "   4.39600e+04  7.00000e+00  3.60000e+01  2.01200e+03]\n",
      " [ 8.40000e+01  2.90000e+01  2.00000e+00  1.00000e+00  1.00000e+03\n",
      "   1.11717e+03  0.00000e+00  0.00000e+00  2.00000e+00  6.00000e+00\n",
      "   1.80000e+01  1.00000e+00  0.00000e+00 -2.99000e+04  1.00000e+00\n",
      "   1.00000e+00  3.00000e+00  4.00000e+00  4.00000e+00  0.00000e+00\n",
      "   2.94000e+02  6.00000e+00  1.00000e+00  1.00000e+00  2.00000e+00\n",
      "   0.00000e+00  1.00000e+00  6.82000e+03  6.20000e+02  1.24000e+03\n",
      "   4.96000e+03  2.00000e+00  0.00000e+00  2.00500e+03]]\n"
     ]
    }
   ],
   "source": [
    "#import json\n",
    "import numpy as np\n",
    "\n",
    "\n",
    "file_name = (\n",
    "    \"test_point_fraud.csv\"  # customize to your test file, will be 'mnist.single.test' if use data above\n",
    ")\n",
    "\n",
    "with open(file_name, \"r\") as f:\n",
    "    mypayload = np.loadtxt(f, delimiter=\",\")\n",
    "    \n",
    "print(mypayload)"
   ]
  },
  {
   "cell_type": "code",
   "execution_count": 10,
   "metadata": {},
   "outputs": [
    {
     "data": {
      "text/plain": [
       "array([0, 0, 0, 0, 0], dtype=int32)"
      ]
     },
     "execution_count": 10,
     "metadata": {},
     "output_type": "execute_result"
    }
   ],
   "source": [
    "mymodel.predict(mypayload)"
   ]
  },
  {
   "cell_type": "code",
   "execution_count": 11,
   "metadata": {},
   "outputs": [],
   "source": [
    "#### This step Booster.save_model was needed before creating a tar.gz . Otherwise I faced issues with prediction on deployment.\n",
    "\n",
    "mymodel._Booster.save_model(model_file_name)"
   ]
  },
  {
   "cell_type": "code",
   "execution_count": 12,
   "metadata": {},
   "outputs": [
    {
     "name": "stdout",
     "output_type": "stream",
     "text": [
      "DEMO-local-xgboost-model-fraud-detection\n"
     ]
    }
   ],
   "source": [
    "!tar czvf model.tar.gz $model_file_name"
   ]
  },
  {
   "cell_type": "markdown",
   "metadata": {},
   "source": [
    "Upload the pre-trained model to S3:"
   ]
  },
  {
   "cell_type": "code",
   "execution_count": 13,
   "metadata": {},
   "outputs": [
    {
     "name": "stdout",
     "output_type": "stream",
     "text": [
      "Sagemaker/DEMO-XGBoost-Auto-Insurance/DEMO-local-xgboost-model-fraud-detection/model.tar.gz\n"
     ]
    }
   ],
   "source": [
    "#### prefix in S3\n",
    "prefix = \"Sagemaker/DEMO-XGBoost-Auto-Insurance\"\n",
    "\n",
    "fObj = open(\"model.tar.gz\", \"rb\")\n",
    "key = os.path.join(prefix, model_file_name, \"model.tar.gz\")\n",
    "print(key)\n",
    "boto3.Session().resource(\"s3\").Bucket(bucket).Object(key).upload_fileobj(fObj)"
   ]
  },
  {
   "cell_type": "markdown",
   "metadata": {},
   "source": [
    "Set up hosting for the model:"
   ]
  },
  {
   "cell_type": "markdown",
   "metadata": {},
   "source": [
    "Import model into hosting\n",
    "\n",
    "This involves creating a SageMaker model from the model file previously uploaded to S3."
   ]
  },
  {
   "cell_type": "markdown",
   "metadata": {},
   "source": [
    "Create a Sagemaker model:"
   ]
  },
  {
   "cell_type": "code",
   "execution_count": 14,
   "metadata": {},
   "outputs": [
    {
     "name": "stderr",
     "output_type": "stream",
     "text": [
      "The method get_image_uri has been renamed in sagemaker>=2.\n",
      "See: https://sagemaker.readthedocs.io/en/stable/v2.html for details.\n"
     ]
    }
   ],
   "source": [
    "from sagemaker.amazon.amazon_estimator import get_image_uri\n",
    "\n",
    "#### Get the built-in xgboost container image in Sagemaker to host our model\n",
    "container = get_image_uri(boto3.Session().region_name, \"xgboost\", \"1.5-1\")"
   ]
  },
  {
   "cell_type": "code",
   "execution_count": 15,
   "metadata": {},
   "outputs": [
    {
     "name": "stdout",
     "output_type": "stream",
     "text": [
      "https://s3-ap-south-1.amazonaws.com/sagemaker-ap-south-1-208779919433/Sagemaker/DEMO-XGBoost-Auto-Insurance/DEMO-local-xgboost-model-fraud-detection/model.tar.gz\n",
      "arn:aws:sagemaker:ap-south-1:208779919433:model/demo-local-xgboost-model-fraud-detection2022-07-26-08-38-09\n",
      "CPU times: user 59.9 ms, sys: 16.8 ms, total: 76.7 ms\n",
      "Wall time: 450 ms\n"
     ]
    }
   ],
   "source": [
    "%%time\n",
    "from time import gmtime, strftime\n",
    "\n",
    "model_name = model_file_name + strftime(\"%Y-%m-%d-%H-%M-%S\", gmtime())\n",
    "\n",
    "model_url = \"https://s3-{}.amazonaws.com/{}/{}\".format(region, bucket, key)\n",
    "\n",
    "sm_client = boto3.client(\"sagemaker\")\n",
    "\n",
    "print(model_url)\n",
    "\n",
    "primary_container = {\n",
    "    \"Image\": container,\n",
    "    \"ModelDataUrl\": model_url,\n",
    "}\n",
    "\n",
    "create_model_response2 = sm_client.create_model(\n",
    "    ModelName=model_name, ExecutionRoleArn=role, PrimaryContainer=primary_container\n",
    ")\n",
    "\n",
    "print(create_model_response2[\"ModelArn\"])"
   ]
  },
  {
   "cell_type": "markdown",
   "metadata": {},
   "source": [
    "Create endpoint configuration:"
   ]
  },
  {
   "cell_type": "markdown",
   "metadata": {},
   "source": [
    "Create an endpoint configuration, that describes the distribution of traffic across the models, whether split, shadowed, or sampled in some way. In addition, the endpoint configuration describes the instance type required for model deployment."
   ]
  },
  {
   "cell_type": "code",
   "execution_count": 16,
   "metadata": {},
   "outputs": [
    {
     "name": "stdout",
     "output_type": "stream",
     "text": [
      "DEMO-XGBoostEndpointConfig-2022-07-26-08-38-21\n",
      "Endpoint Config Arn: arn:aws:sagemaker:ap-south-1:208779919433:endpoint-config/demo-xgboostendpointconfig-2022-07-26-08-38-21\n"
     ]
    }
   ],
   "source": [
    "from time import gmtime, strftime\n",
    "\n",
    "endpoint_config_name = \"DEMO-XGBoostEndpointConfig-\" + strftime(\"%Y-%m-%d-%H-%M-%S\", gmtime())\n",
    "\n",
    "print(endpoint_config_name)\n",
    "\n",
    "create_endpoint_config_response = sm_client.create_endpoint_config(\n",
    "    EndpointConfigName=endpoint_config_name,\n",
    "    ProductionVariants=[\n",
    "        {\n",
    "            \"InstanceType\": \"ml.m4.xlarge\",\n",
    "            \"InitialInstanceCount\": 1,\n",
    "            \"InitialVariantWeight\": 1,\n",
    "            \"ModelName\": model_name,\n",
    "            \"VariantName\": \"AllTraffic\",\n",
    "        }\n",
    "    ],\n",
    ")\n",
    "\n",
    "print(\"Endpoint Config Arn: \" + create_endpoint_config_response[\"EndpointConfigArn\"])"
   ]
  },
  {
   "cell_type": "markdown",
   "metadata": {},
   "source": [
    "Create endpoint:"
   ]
  },
  {
   "cell_type": "markdown",
   "metadata": {},
   "source": [
    "Lastly, you create the endpoint that serves up the model, through specifying the name and configuration defined above. The end result is an endpoint that can be validated and incorporated into production applications. This takes 4-5 minutes to complete."
   ]
  },
  {
   "cell_type": "code",
   "execution_count": 17,
   "metadata": {},
   "outputs": [
    {
     "name": "stdout",
     "output_type": "stream",
     "text": [
      "DEMO-XGBoostEndpoint-2022-07-26-08-38-30\n",
      "arn:aws:sagemaker:ap-south-1:208779919433:endpoint/demo-xgboostendpoint-2022-07-26-08-38-30\n",
      "Status: Creating\n",
      "Status: Creating\n",
      "Status: Creating\n",
      "Status: InService\n",
      "Arn: arn:aws:sagemaker:ap-south-1:208779919433:endpoint/demo-xgboostendpoint-2022-07-26-08-38-30\n",
      "Status: InService\n",
      "CPU times: user 59.7 ms, sys: 7.56 ms, total: 67.3 ms\n",
      "Wall time: 3min\n"
     ]
    }
   ],
   "source": [
    "%%time\n",
    "import time\n",
    "\n",
    "endpoint_name = \"DEMO-XGBoostEndpoint-\" + strftime(\"%Y-%m-%d-%H-%M-%S\", gmtime())\n",
    "print(endpoint_name)\n",
    "create_endpoint_response = sm_client.create_endpoint(\n",
    "    EndpointName=endpoint_name, EndpointConfigName=endpoint_config_name\n",
    ")\n",
    "print(create_endpoint_response[\"EndpointArn\"])\n",
    "\n",
    "resp = sm_client.describe_endpoint(EndpointName=endpoint_name)\n",
    "status = resp[\"EndpointStatus\"]\n",
    "print(\"Status: \" + status)\n",
    "\n",
    "while status == \"Creating\":\n",
    "    time.sleep(60)\n",
    "    resp = sm_client.describe_endpoint(EndpointName=endpoint_name)\n",
    "    status = resp[\"EndpointStatus\"]\n",
    "    print(\"Status: \" + status)\n",
    "\n",
    "print(\"Arn: \" + resp[\"EndpointArn\"])\n",
    "print(\"Status: \" + status)"
   ]
  },
  {
   "cell_type": "markdown",
   "metadata": {},
   "source": [
    "Validate the model for use:"
   ]
  },
  {
   "cell_type": "markdown",
   "metadata": {},
   "source": [
    "Now you can obtain the endpoint from the client library using the result from previous operations and generate classifications from the model using that endpoint."
   ]
  },
  {
   "cell_type": "code",
   "execution_count": 18,
   "metadata": {},
   "outputs": [],
   "source": [
    "runtime_client = boto3.client(\"runtime.sagemaker\")"
   ]
  },
  {
   "cell_type": "markdown",
   "metadata": {},
   "source": [
    "Lets generate the prediction. We'll pick csv data from the test data file"
   ]
  },
  {
   "cell_type": "code",
   "execution_count": 19,
   "metadata": {},
   "outputs": [
    {
     "name": "stdout",
     "output_type": "stream",
     "text": [
      "Payload :\n",
      "\n",
      "5.000000000000000000e+00,2.600000000000000000e+01,0.000000000000000000e+00,1.000000000000000000e+00,2.000000000000000000e+03,1.137019999999999982e+03,0.000000000000000000e+00,0.000000000000000000e+00,6.000000000000000000e+00,4.000000000000000000e+00,1.600000000000000000e+01,1.000000000000000000e+00,3.150000000000000000e+04,0.000000000000000000e+00,2.000000000000000000e+00,1.000000000000000000e+00,2.000000000000000000e+00,0.000000000000000000e+00,6.000000000000000000e+00,6.000000000000000000e+00,2.970000000000000000e+02,2.200000000000000000e+01,1.000000000000000000e+00,1.000000000000000000e+00,1.000000000000000000e+00,3.000000000000000000e+00,0.000000000000000000e+00,8.811000000000000000e+04,1.602000000000000000e+04,1.602000000000000000e+04,5.607000000000000000e+04,1.000000000000000000e+00,5.000000000000000000e+00,2.003000000000000000e+03\n",
      "1.600000000000000000e+02,3.300000000000000000e+01,0.000000000000000000e+00,2.000000000000000000e+00,1.000000000000000000e+03,1.422779999999999973e+03,0.000000000000000000e+00,0.000000000000000000e+00,2.000000000000000000e+00,3.000000000000000000e+00,8.000000000000000000e+00,0.000000000000000000e+00,6.160000000000000000e+04,0.000000000000000000e+00,0.000000000000000000e+00,0.000000000000000000e+00,2.000000000000000000e+00,0.000000000000000000e+00,0.000000000000000000e+00,5.000000000000000000e+00,1.110000000000000000e+02,1.700000000000000000e+01,3.000000000000000000e+00,0.000000000000000000e+00,2.000000000000000000e+00,3.000000000000000000e+00,1.000000000000000000e+00,5.280000000000000000e+04,5.280000000000000000e+03,5.280000000000000000e+03,4.224000000000000000e+04,9.000000000000000000e+00,2.900000000000000000e+01,2.006000000000000000e+03\n",
      "3.850000000000000000e+02,5.100000000000000000e+01,1.000000000000000000e+00,1.000000000000000000e+00,1.000000000000000000e+03,9.763700000000000045e+02,0.000000000000000000e+00,0.000000000000000000e+00,4.000000000000000000e+00,2.000000000000000000e+00,1.500000000000000000e+01,0.000000000000000000e+00,0.000000000000000000e+00,-6.100000000000000000e+04,0.000000000000000000e+00,1.000000000000000000e+00,1.000000000000000000e+00,3.000000000000000000e+00,6.000000000000000000e+00,5.000000000000000000e+00,4.400000000000000000e+01,1.400000000000000000e+01,3.000000000000000000e+00,0.000000000000000000e+00,1.000000000000000000e+00,3.000000000000000000e+00,0.000000000000000000e+00,6.760000000000000000e+04,1.352000000000000000e+04,6.760000000000000000e+03,4.732000000000000000e+04,1.100000000000000000e+01,2.100000000000000000e+01,2.007000000000000000e+03\n",
      "4.460000000000000000e+02,5.700000000000000000e+01,1.000000000000000000e+00,0.000000000000000000e+00,2.000000000000000000e+03,1.373210000000000036e+03,0.000000000000000000e+00,1.000000000000000000e+00,1.000000000000000000e+00,0.000000000000000000e+00,1.700000000000000000e+01,4.000000000000000000e+00,4.270000000000000000e+04,-6.490000000000000000e+04,0.000000000000000000e+00,0.000000000000000000e+00,2.000000000000000000e+00,4.000000000000000000e+00,4.000000000000000000e+00,4.000000000000000000e+00,9.720000000000000000e+02,1.000000000000000000e+01,3.000000000000000000e+00,0.000000000000000000e+00,0.000000000000000000e+00,0.000000000000000000e+00,0.000000000000000000e+00,6.280000000000000000e+04,6.280000000000000000e+03,1.256000000000000000e+04,4.396000000000000000e+04,7.000000000000000000e+00,3.600000000000000000e+01,2.012000000000000000e+03\n",
      "8.400000000000000000e+01,2.900000000000000000e+01,2.000000000000000000e+00,1.000000000000000000e+00,1.000000000000000000e+03,1.117170000000000073e+03,0.000000000000000000e+00,0.000000000000000000e+00,2.000000000000000000e+00,6.000000000000000000e+00,1.800000000000000000e+01,1.000000000000000000e+00,0.000000000000000000e+00,-2.990000000000000000e+04,1.000000000000000000e+00,1.000000000000000000e+00,3.000000000000000000e+00,4.000000000000000000e+00,4.000000000000000000e+00,0.000000000000000000e+00,2.940000000000000000e+02,6.000000000000000000e+00,1.000000000000000000e+00,1.000000000000000000e+00,2.000000000000000000e+00,0.000000000000000000e+00,1.000000000000000000e+00,6.820000000000000000e+03,6.200000000000000000e+02,1.240000000000000000e+03,4.960000000000000000e+03,2.000000000000000000e+00,0.000000000000000000e+00,2.005000000000000000e+03\n",
      "\n",
      "Results :\n",
      "\n",
      "\n",
      "\n",
      "Predicted Class Probabilities: 0.07987239956855774\n",
      "0.07372141629457474\n",
      "0.07987239956855774\n",
      "0.11815092712640762\n",
      "0.10339038819074631\n",
      ".\n",
      "CPU times: user 13.2 ms, sys: 2.13 ms, total: 15.3 ms\n",
      "Wall time: 135 ms\n"
     ]
    }
   ],
   "source": [
    "%%time\n",
    "import json\n",
    "\n",
    "\n",
    "file_name = (\n",
    "    \"test_point_fraud.csv\"  # customize to your test file, will be 'mnist.single.test' if use data above\n",
    ")\n",
    "\n",
    "with open(file_name, \"r\") as f:\n",
    "    payload = f.read().strip()\n",
    "    \n",
    "    \n",
    "print(\"Payload :\\n\")\n",
    "\n",
    "print(payload)\n",
    "print()\n",
    "\n",
    "response = runtime_client.invoke_endpoint(\n",
    "    EndpointName=endpoint_name, ContentType=\"text/csv\", Body=payload\n",
    ")\n",
    "\n",
    "##print(response)\n",
    "\n",
    "print(\"Results :\\n\")\n",
    "print()\n",
    "\n",
    "result = response[\"Body\"].read().decode(\"ascii\")\n",
    "\n",
    "# Unpack response\n",
    "print(\"\\nPredicted Class Probabilities: {}.\".format(result))"
   ]
  },
  {
   "cell_type": "markdown",
   "metadata": {},
   "source": [
    "Delete the Endpoint:"
   ]
  },
  {
   "cell_type": "code",
   "execution_count": null,
   "metadata": {},
   "outputs": [],
   "source": [
    "sm_client.delete_endpoint(EndpointName=endpoint_name)"
   ]
  },
  {
   "cell_type": "code",
   "execution_count": null,
   "metadata": {},
   "outputs": [],
   "source": []
  },
  {
   "cell_type": "markdown",
   "metadata": {},
   "source": [
    "# Register and Deploy Models with Model Registry:"
   ]
  },
  {
   "cell_type": "markdown",
   "metadata": {},
   "source": [
    "###### 1.Create a Model Group:"
   ]
  },
  {
   "cell_type": "markdown",
   "metadata": {},
   "source": [
    "A model group contains a group of versioned models. Create a model group by using either the AWS SDK for Python (Boto3) or Amazon SageMaker Studio."
   ]
  },
  {
   "cell_type": "markdown",
   "metadata": {},
   "source": [
    "To create a model group by using Boto3, call the create_model_package_group method and specify a name and description as parameters. The following example shows how to create a model group. The response from the create_model_package_group call is the Amazon Resource Name (ARN) of the new model package group.\n",
    "\n",
    "First, import the required packages and set up the SageMaker Boto3 client."
   ]
  },
  {
   "cell_type": "code",
   "execution_count": 20,
   "metadata": {},
   "outputs": [],
   "source": [
    "import time\n",
    "import os\n",
    "from sagemaker import get_execution_role, session\n",
    "import boto3\n",
    "\n",
    "region = boto3.Session().region_name\n",
    "\n",
    "role = get_execution_role()\n",
    "\n",
    "sm_client = boto3.client('sagemaker', region_name=region)"
   ]
  },
  {
   "cell_type": "markdown",
   "metadata": {},
   "source": [
    "Now create the model group."
   ]
  },
  {
   "cell_type": "code",
   "execution_count": 21,
   "metadata": {},
   "outputs": [
    {
     "name": "stdout",
     "output_type": "stream",
     "text": [
      "ModelPackageGroup Arn : arn:aws:sagemaker:ap-south-1:208779919433:model-package-group/demo-local-xgboost-model-fraud-detection1658824993\n"
     ]
    }
   ],
   "source": [
    "import time\n",
    "model_package_group_name = \"DEMO-local-xgboost-model-fraud-detection\" + str(round(time.time()))\n",
    "model_package_group_input_dict = {\n",
    " \"ModelPackageGroupName\" : model_package_group_name,\n",
    " \"ModelPackageGroupDescription\" : \"Sample model package group\"\n",
    "}\n",
    "\n",
    "create_model_package_group_response = sm_client.create_model_package_group(**model_package_group_input_dict)\n",
    "print('ModelPackageGroup Arn : {}'.format(create_model_package_group_response['ModelPackageGroupArn']))"
   ]
  },
  {
   "cell_type": "markdown",
   "metadata": {},
   "source": [
    "###### 2.Register a Model Version:"
   ]
  },
  {
   "cell_type": "markdown",
   "metadata": {},
   "source": [
    "You can register an Amazon SageMaker model by creating a model version that specifies the model group to which it belongs. A model version must include both the model artifacts (the trained weights of a model) and the inference code for the model."
   ]
  },
  {
   "cell_type": "markdown",
   "metadata": {},
   "source": [
    "To register a model version by using Boto3, call the create_model_package method.\n",
    "\n",
    "First, you set up the parameter dictionary to pass to the create_model_package method."
   ]
  },
  {
   "cell_type": "code",
   "execution_count": 22,
   "metadata": {},
   "outputs": [],
   "source": [
    "# Specify the model source\n",
    "\n",
    "model_url = \"https://s3-{}.amazonaws.com/{}/{}\".format(region, bucket, key)\n",
    "\n",
    "modelpackage_inference_specification =  {\n",
    "    \"InferenceSpecification\": {\n",
    "      \"Containers\": [\n",
    "         {\n",
    "            \"Image\": container,\n",
    "\t    \"ModelDataUrl\": model_url\n",
    "         }\n",
    "      ],\n",
    "      \"SupportedContentTypes\": [ \"text/csv\" ],\n",
    "      \"SupportedResponseMIMETypes\": [ \"text/csv\" ],\n",
    "   }\n",
    " }\n",
    "\n",
    "# Alternatively, you can specify the model source like this:\n",
    "# modelpackage_inference_specification[\"InferenceSpecification\"][\"Containers\"][0][\"ModelDataUrl\"]=model_url\n",
    "\n",
    "create_model_package_input_dict = {\n",
    "    \"ModelPackageGroupName\" : model_package_group_name,\n",
    "    \"ModelPackageDescription\" : \"Model to detect wheather the claim is fraud or non-fraud\",\n",
    "    \"ModelApprovalStatus\" : \"PendingManualApproval\"\n",
    "}\n",
    "create_model_package_input_dict.update(modelpackage_inference_specification)"
   ]
  },
  {
   "cell_type": "markdown",
   "metadata": {},
   "source": [
    "Then you call the create_model_package method, passing in the parameter dictionary that you just set up."
   ]
  },
  {
   "cell_type": "code",
   "execution_count": 23,
   "metadata": {},
   "outputs": [
    {
     "name": "stdout",
     "output_type": "stream",
     "text": [
      "ModelPackage Version ARN : arn:aws:sagemaker:ap-south-1:208779919433:model-package/demo-local-xgboost-model-fraud-detection1658824993/1\n"
     ]
    }
   ],
   "source": [
    "create_model_package_response = sm_client.create_model_package(**create_model_package_input_dict)\n",
    "model_package_arn = create_model_package_response[\"ModelPackageArn\"]\n",
    "print('ModelPackage Version ARN : {}'.format(model_package_arn))"
   ]
  },
  {
   "cell_type": "markdown",
   "metadata": {},
   "source": [
    "###### 3.View Model Groups and Versions:"
   ]
  },
  {
   "cell_type": "markdown",
   "metadata": {},
   "source": [
    "Model groups and versions help you organize your models. You can view a list of the model versions in a model group."
   ]
  },
  {
   "cell_type": "markdown",
   "metadata": {},
   "source": [
    "You can view all of the model versions that are associated with a model group. If a model group represents all models that you train to address a specific ML problem, you can view all of those related models."
   ]
  },
  {
   "cell_type": "markdown",
   "metadata": {},
   "source": [
    "To view model versions associated with a model group by using Boto3, call the list_model_packages method, and pass the name of the model group as the value of the ModelPackageGroupName parameter."
   ]
  },
  {
   "cell_type": "code",
   "execution_count": 24,
   "metadata": {},
   "outputs": [
    {
     "data": {
      "text/plain": [
       "{'ModelPackageSummaryList': [{'ModelPackageGroupName': 'DEMO-local-xgboost-model-fraud-detection1658824993',\n",
       "   'ModelPackageVersion': 1,\n",
       "   'ModelPackageArn': 'arn:aws:sagemaker:ap-south-1:208779919433:model-package/demo-local-xgboost-model-fraud-detection1658824993/1',\n",
       "   'ModelPackageDescription': 'Model to detect wheather the claim is fraud or non-fraud',\n",
       "   'CreationTime': datetime.datetime(2022, 7, 26, 8, 44, 29, 679000, tzinfo=tzlocal()),\n",
       "   'ModelPackageStatus': 'Completed',\n",
       "   'ModelApprovalStatus': 'PendingManualApproval'}],\n",
       " 'ResponseMetadata': {'RequestId': '2d8c3a11-b659-4f28-b20d-a92f0dadc20c',\n",
       "  'HTTPStatusCode': 200,\n",
       "  'HTTPHeaders': {'x-amzn-requestid': '2d8c3a11-b659-4f28-b20d-a92f0dadc20c',\n",
       "   'content-type': 'application/x-amz-json-1.1',\n",
       "   'content-length': '457',\n",
       "   'date': 'Tue, 26 Jul 2022 08:45:37 GMT'},\n",
       "  'RetryAttempts': 0}}"
      ]
     },
     "execution_count": 24,
     "metadata": {},
     "output_type": "execute_result"
    }
   ],
   "source": [
    "sm_client.list_model_packages(ModelPackageGroupName=model_package_group_name)"
   ]
  },
  {
   "cell_type": "markdown",
   "metadata": {},
   "source": [
    "###### 4.View the Details of a Model Version:"
   ]
  },
  {
   "cell_type": "markdown",
   "metadata": {},
   "source": [
    "You can view details of a specific model version by using either the AWS SDK for Python (Boto3) or by using Amazon SageMaker Studio."
   ]
  },
  {
   "cell_type": "markdown",
   "metadata": {},
   "source": [
    "To view the details of a model version by using Boto3, complete the following steps.\n",
    "\n",
    "1.Call the list_model_packages method to view the model versions in a model group."
   ]
  },
  {
   "cell_type": "code",
   "execution_count": 29,
   "metadata": {},
   "outputs": [
    {
     "data": {
      "text/plain": [
       "{'ModelPackageSummaryList': [],\n",
       " 'ResponseMetadata': {'RequestId': '1edeb775-df06-4cc6-9105-c9e93cc93183',\n",
       "  'HTTPStatusCode': 200,\n",
       "  'HTTPHeaders': {'x-amzn-requestid': '1edeb775-df06-4cc6-9105-c9e93cc93183',\n",
       "   'content-type': 'application/x-amz-json-1.1',\n",
       "   'content-length': '30',\n",
       "   'date': 'Tue, 26 Jul 2022 08:55:40 GMT'},\n",
       "  'RetryAttempts': 0}}"
      ]
     },
     "execution_count": 29,
     "metadata": {},
     "output_type": "execute_result"
    }
   ],
   "source": [
    "sm_client.list_model_packages(ModelPackageGroupName=\"ModelGroup1\")"
   ]
  },
  {
   "cell_type": "markdown",
   "metadata": {},
   "source": [
    "The response is a list of model package summaries. You can get the Amazon Resource Name (ARN) of the model versions from this list."
   ]
  },
  {
   "cell_type": "markdown",
   "metadata": {},
   "source": [
    "2.Call describe_model_package to see the details of the model version. You pass in the ARN of a model version that you got in the output of the call to list_model_packages."
   ]
  },
  {
   "cell_type": "code",
   "execution_count": 26,
   "metadata": {},
   "outputs": [
    {
     "data": {
      "text/plain": [
       "{'ModelPackageGroupName': 'DEMO-local-xgboost-model-fraud-detection1658824993',\n",
       " 'ModelPackageVersion': 1,\n",
       " 'ModelPackageArn': 'arn:aws:sagemaker:ap-south-1:208779919433:model-package/demo-local-xgboost-model-fraud-detection1658824993/1',\n",
       " 'ModelPackageDescription': 'Model to detect wheather the claim is fraud or non-fraud',\n",
       " 'CreationTime': datetime.datetime(2022, 7, 26, 8, 44, 29, 679000, tzinfo=tzlocal()),\n",
       " 'InferenceSpecification': {'Containers': [{'Image': '720646828776.dkr.ecr.ap-south-1.amazonaws.com/sagemaker-xgboost:1.5-1',\n",
       "    'ImageDigest': 'sha256:900372db4cdb1f34e9eae2de344350b53b4d7c141e883a1e197fd3576c73d2a6',\n",
       "    'ModelDataUrl': 'https://s3-ap-south-1.amazonaws.com/sagemaker-ap-south-1-208779919433/Sagemaker/DEMO-XGBoost-Auto-Insurance/DEMO-local-xgboost-model-fraud-detection/model.tar.gz'}],\n",
       "  'SupportedContentTypes': ['text/csv'],\n",
       "  'SupportedResponseMIMETypes': ['text/csv']},\n",
       " 'ModelPackageStatus': 'Completed',\n",
       " 'ModelPackageStatusDetails': {'ValidationStatuses': [],\n",
       "  'ImageScanStatuses': []},\n",
       " 'CertifyForMarketplace': False,\n",
       " 'ModelApprovalStatus': 'PendingManualApproval',\n",
       " 'CreatedBy': {'UserProfileArn': 'arn:aws:sagemaker:ap-south-1:208779919433:user-profile/d-7mbrrlmiagw2/default-1658812828101',\n",
       "  'UserProfileName': 'default-1658812828101',\n",
       "  'DomainId': 'd-7mbrrlmiagw2'},\n",
       " 'ResponseMetadata': {'RequestId': '7fd2fe3a-f66c-4a22-a803-badfc3e41981',\n",
       "  'HTTPStatusCode': 200,\n",
       "  'HTTPHeaders': {'x-amzn-requestid': '7fd2fe3a-f66c-4a22-a803-badfc3e41981',\n",
       "   'content-type': 'application/x-amz-json-1.1',\n",
       "   'content-length': '1199',\n",
       "   'date': 'Tue, 26 Jul 2022 08:48:10 GMT'},\n",
       "  'RetryAttempts': 0}}"
      ]
     },
     "execution_count": 26,
     "metadata": {},
     "output_type": "execute_result"
    }
   ],
   "source": [
    "sm_client.describe_model_package(ModelPackageName=\"arn:aws:sagemaker:ap-south-1:208779919433:model-package/demo-local-xgboost-model-fraud-detection1658824993/1\")"
   ]
  },
  {
   "cell_type": "markdown",
   "metadata": {},
   "source": [
    "The output of this call is a JSON object with the model version details."
   ]
  },
  {
   "cell_type": "markdown",
   "metadata": {},
   "source": [
    "###### 5.Update the Approval Status of a Model:"
   ]
  },
  {
   "cell_type": "markdown",
   "metadata": {},
   "source": [
    "After you create a model version, you typically want to evaluate its performance before you deploy it to a production endpoint. If it performs to your requirements, you can update the approval status of the model version to Approved. Setting the status to Approved can initiate CI/CD deployment for the model. If the model version does not perform to your requirements, you can update the approval status to Rejected."
   ]
  },
  {
   "cell_type": "markdown",
   "metadata": {},
   "source": [
    "When you use one of the SageMaker provided project templates and the approval status of a model version changes, the following action occurs. Only valid transitions are shown.\n",
    "\n",
    "PendingManualApproval to Approved – initiates CI/CD deployment for the approved model version\n",
    "\n",
    "PendingManualApproval to Rejected – No action\n",
    "\n",
    "Rejected to Approved – initiates CI/CD deployment for the approved model version\n",
    "\n",
    "Approved to Rejected – initiates CI/CD to deploy the latest model version with an Approved status"
   ]
  },
  {
   "cell_type": "markdown",
   "metadata": {},
   "source": [
    "When you created the model version in Register a Model Version, you set the ModelApprovalStatus to PendingManualApproval. You update the approval status for the model by calling update_model_package. Note that you can automate this process by writing code that, for example, sets the approval status of a model depending on the result of an evaluation of some measure of the model's performance. You can also create a step in a pipeline that automatically deploys a new model version when it is approved. The following code snippet shows how to manually change the approval status to Approved."
   ]
  },
  {
   "cell_type": "code",
   "execution_count": 27,
   "metadata": {},
   "outputs": [],
   "source": [
    "model_package_update_input_dict = {\n",
    "    \"ModelPackageArn\" : model_package_arn,\n",
    "    \"ModelApprovalStatus\" : \"Approved\"\n",
    "}\n",
    "model_package_update_response = sm_client.update_model_package(**model_package_update_input_dict)"
   ]
  },
  {
   "cell_type": "code",
   "execution_count": 28,
   "metadata": {},
   "outputs": [
    {
     "data": {
      "text/plain": [
       "{'ModelPackageSummaryList': [{'ModelPackageGroupName': 'DEMO-local-xgboost-model-fraud-detection1658824993',\n",
       "   'ModelPackageVersion': 1,\n",
       "   'ModelPackageArn': 'arn:aws:sagemaker:ap-south-1:208779919433:model-package/demo-local-xgboost-model-fraud-detection1658824993/1',\n",
       "   'ModelPackageDescription': 'Model to detect wheather the claim is fraud or non-fraud',\n",
       "   'CreationTime': datetime.datetime(2022, 7, 26, 8, 44, 29, 679000, tzinfo=tzlocal()),\n",
       "   'ModelPackageStatus': 'Completed',\n",
       "   'ModelApprovalStatus': 'Approved'}],\n",
       " 'ResponseMetadata': {'RequestId': 'd512c257-8012-4037-9b86-e49a8adeafdc',\n",
       "  'HTTPStatusCode': 200,\n",
       "  'HTTPHeaders': {'x-amzn-requestid': 'd512c257-8012-4037-9b86-e49a8adeafdc',\n",
       "   'content-type': 'application/x-amz-json-1.1',\n",
       "   'content-length': '444',\n",
       "   'date': 'Tue, 26 Jul 2022 08:48:52 GMT'},\n",
       "  'RetryAttempts': 0}}"
      ]
     },
     "execution_count": 28,
     "metadata": {},
     "output_type": "execute_result"
    }
   ],
   "source": [
    "sm_client.list_model_packages(ModelPackageGroupName=model_package_group_name)"
   ]
  },
  {
   "cell_type": "markdown",
   "metadata": {},
   "source": [
    "###### 6.Deploy a Model from the Registry:\n"
   ]
  },
  {
   "cell_type": "markdown",
   "metadata": {},
   "source": [
    "After you register a model version and approve it for deployment, deploy it to a SageMaker endpoint for real-time inference.\n",
    "\n",
    "When you create an MLOps project and choose an MLOps project template that includes model deployment, approved model versions in the model registry are automatically deployed to production."
   ]
  },
  {
   "cell_type": "markdown",
   "metadata": {},
   "source": [
    "Deploy a Model from the Registry (Boto3)"
   ]
  },
  {
   "cell_type": "markdown",
   "metadata": {},
   "source": [
    "To deploy a model version using the AWS SDK for Python (Boto3), complete the following steps:\n",
    "\n",
    "1.Create a model object from the model version by calling the create_model method. Pass the Amazon Resource Name (ARN) of the model version as part of the Containers for the model object.\n",
    "\n",
    "The following code snippet assumes you have already created the SageMaker Boto3 client sm_client, and that you have already created a model version with an ARN that you have stored in a variable named model_version_arn."
   ]
  },
  {
   "cell_type": "markdown",
   "metadata": {},
   "source": [
    "model_name = 'DEMO-modelregistry-model-' + strftime(\"%Y-%m-%d-%H-%M-%S\", gmtime())\n",
    "print(\"Model name : {}\".format(model_name))\n",
    "container_list = [{'ModelPackageName': model_version_arn}]\n",
    "\n",
    "create_model_response = sm_client.create_model(\n",
    "    ModelName = model_name,\n",
    "    ExecutionRoleArn = role,\n",
    "    Containers = container_list\n",
    ")\n",
    "print(\"Model arn : {}\".format(create_model_response[\"ModelArn\"]))"
   ]
  },
  {
   "cell_type": "markdown",
   "metadata": {},
   "source": [
    "2.Create an endpoint configuration by calling create_endpoint_config. The endpoint configuration specifies the number and type of Amazon EC2 instances to use for the endpoint."
   ]
  },
  {
   "cell_type": "markdown",
   "metadata": {},
   "source": [
    "endpoint_config_name = 'DEMO-modelregistry-EndpointConfig-' + strftime(\"%Y-%m-%d-%H-%M-%S\", gmtime())\n",
    "print(endpoint_config_name)\n",
    "create_endpoint_config_response = sm_client.create_endpoint_config(\n",
    "    EndpointConfigName = endpoint_config_name,\n",
    "    ProductionVariants=[{\n",
    "        'InstanceType':'ml.m4.xlarge',\n",
    "        'InitialVariantWeight':1,\n",
    "        'InitialInstanceCount':1,\n",
    "        'ModelName':model_name,\n",
    "        'VariantName':'AllTraffic'}])"
   ]
  },
  {
   "cell_type": "markdown",
   "metadata": {},
   "source": [
    "3.Create the endpoint by calling create_endpoint."
   ]
  },
  {
   "cell_type": "markdown",
   "metadata": {},
   "source": [
    "endpoint_name = 'DEMO-modelregistry-endpoint-' + strftime(\"%Y-%m-%d-%H-%M-%S\", gmtime())\n",
    "print(\"EndpointName={}\".format(endpoint_name))\n",
    "\n",
    "create_endpoint_response = sm_client.create_endpoint(\n",
    "    EndpointName=endpoint_name,\n",
    "    EndpointConfigName=endpoint_config_name)\n",
    "print(create_endpoint_response['EndpointArn'])"
   ]
  },
  {
   "cell_type": "markdown",
   "metadata": {},
   "source": [
    "7.View the Deployment History of a Model:"
   ]
  },
  {
   "cell_type": "markdown",
   "metadata": {},
   "source": [
    "View the deployments for a model version Amazon SageMaker Studio by opening the tab for that model version.\n",
    "View the deployment history for a model version\n",
    "\n",
    "1.Sign in to Studio. For more information, see Onboard to Amazon SageMaker Domain.\n",
    "\n",
    "2.In the left navigation pane, choose the SageMaker Resources icon (  ).\n",
    "\n",
    "3.Choose Model registry.\n",
    "\n",
    "4.From the model groups list, choose the model group you want to view.\n",
    "\n",
    "5.A new tab appears with a list of the model versions in the model group.\n",
    "\n",
    "6.In the list of model versions, double-click the model version for which you want to view details.\n",
    "\n",
    "7.On the model version tab that opens, choose Activity. Deployments for the model version appear as events in the activity list with an Event type of ModelDeployment."
   ]
  },
  {
   "cell_type": "markdown",
   "metadata": {},
   "source": [
    "8.Delete a Model Group:"
   ]
  },
  {
   "cell_type": "markdown",
   "metadata": {},
   "source": [
    "Delete a Model Package Group (Amazon SageMaker Studio)\n",
    "To delete a model group in Amazon SageMaker Studio, complete the following steps.\n",
    "\n",
    "1.Sign in to Amazon SageMaker Studio. For more information, see Onboard to Amazon SageMaker Domain.\n",
    "\n",
    "2.In the left navigation pane, choose the SageMaker Resources icon (  ).\n",
    "\n",
    "3.Choose Model registry in the dropdown menu at the top of the SageMaker resources panel.\n",
    "A list of your model groups appears.\n",
    "\n",
    "4.From the model groups list, double-click the model group you want to delete.\n",
    "The model details tab opens to the right.\n",
    "\n",
    "5.In the Actions dropdown menu in the top right corner of the model details tab, choose Delete.\n",
    "\n",
    "6.In the confirmation dialog box, choose Delete."
   ]
  },
  {
   "cell_type": "markdown",
   "metadata": {},
   "source": []
  },
  {
   "cell_type": "markdown",
   "metadata": {},
   "source": [
    "9.Delete a Model Version:"
   ]
  },
  {
   "cell_type": "markdown",
   "metadata": {},
   "source": [
    "Delete a Model Version (Amazon SageMaker Studio):\n",
    "1.To delete a model version in Amazon SageMaker Studio, complete the following steps.\n",
    "\n",
    "2.Sign in to Amazon SageMaker Studio. For more information, see Onboard to Amazon SageMaker Domain.\n",
    "\n",
    "3.In the left navigation pane, choose the SageMaker Resources icon (  ).\n",
    "\n",
    "4.Choose Model registry in the dropdown menu at the top of the SageMaker resources panel.\n",
    "\n",
    "A list of your model groups appears.\n",
    "\n",
    "5.From the model groups list, double-click the model group of the model version you want to delete.\n",
    "\n",
    "The model details tab opens to the right.\n",
    "\n",
    "6.From the list of model versions in the model details tab, double-click the model version you want to delete.\n",
    "Choose the Settings tab.\n",
    "\n",
    "7.Choose Delete Version in the Settings tab.\n",
    "8.In the confirmation dialog box, choose Delete."
   ]
  },
  {
   "cell_type": "code",
   "execution_count": null,
   "metadata": {},
   "outputs": [],
   "source": []
  }
 ],
 "metadata": {
  "instance_type": "ml.t3.medium",
  "kernelspec": {
   "display_name": "Python 3 (ipykernel)",
   "language": "python",
   "name": "python3"
  },
  "language_info": {
   "codemirror_mode": {
    "name": "ipython",
    "version": 3
   },
   "file_extension": ".py",
   "mimetype": "text/x-python",
   "name": "python",
   "nbconvert_exporter": "python",
   "pygments_lexer": "ipython3",
   "version": "3.9.7"
  }
 },
 "nbformat": 4,
 "nbformat_minor": 4
}
